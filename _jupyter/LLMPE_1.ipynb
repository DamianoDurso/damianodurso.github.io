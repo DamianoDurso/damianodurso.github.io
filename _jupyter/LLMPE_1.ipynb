{
 "cells": [
  {
   "cell_type": "markdown",
   "id": "e3f42f9e",
   "metadata": {},
   "source": [
    "# The Modern Workhorse for People Analytics: Leveraging Language Models for Better Surveys\n",
    "\n",
    "**How often do you rely on surveys to measure employee engagement, customer satisfaction, or candidate fit?** In people analytics, these tools are indispensable. They help organizations gather insights and make informed decisions. However, building reliable surveys is complex and resource-intensive. Many fall back on poor measures due to the high cost, risk, and time involved.\n",
    "\n",
    "This blog series will explore how **Large Language Model Embedding Psychometrics (LLMEP)** can streamline survey creation and make it easier, cheaper, and more effective. We’ll also delve into its coding so you can try it yourself!\n",
    "\n",
    "In this first post, I’ll cover how **Large Language Models (LLMs)** can help transform survey questions into data for people analytics, enhancing accuracy and depth without requiring traditional data collection. Let’s dive in and discover how this applies to people analytics!"
   ]
  },
  {
   "cell_type": "markdown",
   "id": "da6cc7de",
   "metadata": {},
   "source": [
    "## Challenges in Traditional Survey Development\n",
    "\n",
    "When it comes to creating surveys for people analytics, there are several hurdles that organizations often encounter:\n",
    "\n",
    "- **Costly & Time-Consuming**: Crafting valid questions involves a considerable investment of resources. It requires in-depth research, rigorous testing, and a substantial dataset for validation. This process can be both financially burdensome and time-consuming.\n",
    "- **High Failure Risk:** Even slight changes in the phrasing of questions can have a significant impact on the validity of responses. Additionally, administering multiple variations of surveys can lead to respondent fatigue and introduce bias into the results.\n",
    "\n",
    "Given these challenges, the question arises: **Can we streamline this process without compromising the quality of the data gathered?** This is where LLMEP steps in. By addressing these challenges and providing a more efficient and effective approach to survey development, LLMEP offers a solution that not only simplifies the process but also allows to test the quality and validity of the questions before collecting any data.\n"
   ]
  },
  {
   "cell_type": "markdown",
   "id": "73553b5e",
   "metadata": {},
   "source": [
    "## Enter Large Language Models (LLMs) and Their Power for People Analytics\n",
    "\n",
    "**Large Language Models** such as GPT and BERT have transformed natural language processing. But how can they benefit people analytics? These models convert text into numerical representations known as *embeddings*, which capture sentence (or questions) meaning and can be further used to analyze survey data.\n",
    "\n",
    "For people analytics, LLMs can:\n",
    "\n",
    "- **Analyze Employee Feedback:** Quickly extract themes from open-ended responses.\n",
    "- **Enhance Surveys with Semantics:** Create more accurate and insightful questions without extensive piloting.\n",
    "\n",
    "In this article, we will focus on BERT and Sentence-BERT (SBERT), two LLMs that are particularly useful for transforming survey questions into analyzable data."
   ]
  },
  {
   "cell_type": "markdown",
   "id": "9ecf9ef4",
   "metadata": {},
   "source": [
    "## Applying SBERT to People Analytics: A Practical Example\n",
    "\n",
    "Imagine that you are developing a survey to measure workplace recognition, which you define as *\"Workplace recognition is the acknowledgment and appreciation of an individual or a team's efforts, achievements, and contributions within the work environment. It can take the form of praise, rewards, or other forms of positive reinforcement to motivate and encourage employees.\"*\n",
    "\n",
    "Let's say that, after some careful consideration, **you have managed to create a list of 10 questions** that you think are suitable to measure workplace recognition. However, this list is still too long, and different **stakeholders tell you that you can only use three questions because they don't want to overburden employees**. Also, you probably fear that by using too many questions the employees' motivaton to respond would drop, resulting in careless responding or other response biases, which would ultimately leave you with useless results.\n",
    "\n",
    "Below I will show you in three simple steps **how you can use BERT and SBERT to pick the best three questions that would measure workplace recognition without collecting any data**."
   ]
  },
  {
   "cell_type": "markdown",
   "id": "04916f2c",
   "metadata": {},
   "source": [
    "## Step 1: Define the List of Questions and your construct definition"
   ]
  },
  {
   "cell_type": "code",
   "execution_count": 19,
   "id": "4446684a",
   "metadata": {},
   "outputs": [],
   "source": [
    "# Define the construct for \"Workplace Recognition\"\n",
    "construct = \"Workplace recognition is the acknowledgment and appreciation of an individual or a team's efforts, achievements, and contributions within the work environment. It can take the form of praise, rewards, or other forms of positive reinforcement to motivate and encourage employees.\"\n",
    "\n",
    "# List of questions about workplace recognition\n",
    "questions = [\n",
    "    \"Do you feel acknowledged for your hard work by your manager?\",\n",
    "    \"How often do you receive positive feedback for your contributions?\",\n",
    "    \"Are your achievements celebrated within your team?\",\n",
    "    \"Is your work recognized in team meetings?\",\n",
    "    \"Do you receive public praise for your efforts?\",\n",
    "    \"Are there rewards for outstanding performance in your workplace?\",\n",
    "    \"Does your team leader show appreciation for a job well done?\",\n",
    "    \"Are your contributions valued by your colleagues?\",\n",
    "    \"Do you feel that your work is overlooked or undervalued?\",\n",
    "    \"Is there a system in place for recognizing exceptional work in your company?\"\n",
    "]"
   ]
  },
  {
   "cell_type": "markdown",
   "id": "b19540fb",
   "metadata": {},
   "source": [
    "## Step 2: Generate Embeddings for the Construct and Each Question"
   ]
  },
  {
   "cell_type": "code",
   "execution_count": 20,
   "id": "99285d2d",
   "metadata": {},
   "outputs": [],
   "source": [
    "# Import necessary libraries\n",
    "from transformers import BertTokenizer, BertModel\n",
    "import torch\n",
    "from sentence_transformers import SentenceTransformer\n",
    "\n",
    "# Load BERT model and tokenizer for word embeddings\n",
    "tokenizer = BertTokenizer.from_pretrained('bert-base-uncased')\n",
    "model = BertModel.from_pretrained('bert-base-uncased')\n",
    "\n",
    "# Initialize SBERT model for sentence embeddings\n",
    "sbert_model = SentenceTransformer('bert-base-nli-mean-tokens')\n",
    "\n",
    "# Function to compute sentence embeddings using BERT (mean pooling)\n",
    "def bert_sentence_embedding(sentence):\n",
    "    inputs = tokenizer(sentence, return_tensors='pt', add_special_tokens=True)\n",
    "    with torch.no_grad():\n",
    "        outputs = model(**inputs)\n",
    "    word_embeddings = outputs.last_hidden_state.squeeze(0)[1:-1]\n",
    "    return word_embeddings.mean(dim=0).numpy()\n",
    "\n",
    "# Generate embeddings for the construct\n",
    "construct_embedding_bert = bert_sentence_embedding(construct)\n",
    "construct_embedding_sbert = sbert_model.encode(construct)\n",
    "\n",
    "# Generate embeddings for each question\n",
    "bert_embeddings = [bert_sentence_embedding(question) for question in questions]\n",
    "sbert_embeddings = [sbert_model.encode(question) for question in questions]\n"
   ]
  },
  {
   "cell_type": "markdown",
   "id": "d234bfbe",
   "metadata": {},
   "source": [
    "## Step 3: Select the Best Three Questions Based on Cosine Similarity"
   ]
  },
  {
   "cell_type": "code",
   "execution_count": 21,
   "id": "b20f528f",
   "metadata": {},
   "outputs": [
    {
     "name": "stdout",
     "output_type": "stream",
     "text": [
      "Top 3 Questions (SBERT-based):\n",
      "Question: Are there rewards for outstanding performance in your workplace? | Similarity: 0.8215\n",
      "Question: Does your team leader show appreciation for a job well done? | Similarity: 0.8180\n",
      "Question: Do you feel acknowledged for your hard work by your manager? | Similarity: 0.7846\n",
      "\n",
      "Top 3 Questions (BERT-based):\n",
      "Question: Does your team leader show appreciation for a job well done? | Similarity: 0.7613\n",
      "Question: Is there a system in place for recognizing exceptional work in your company? | Similarity: 0.7508\n",
      "Question: Are there rewards for outstanding performance in your workplace? | Similarity: 0.7391\n"
     ]
    }
   ],
   "source": [
    "from sklearn.metrics.pairwise import cosine_similarity\n",
    "import numpy as np\n",
    "\n",
    "# Calculate cosine similarities for BERT embeddings\n",
    "similarities_bert = [cosine_similarity([construct_embedding_bert], [embedding])[0][0] for embedding in bert_embeddings]\n",
    "# Calculate cosine similarities for SBERT embeddings\n",
    "similarities_sbert = [cosine_similarity([construct_embedding_sbert], [embedding])[0][0] for embedding in sbert_embeddings]\n",
    "\n",
    "# Find top 3 questions based on similarity scores from SBERT\n",
    "top_indices_sbert = np.argsort(similarities_sbert)[-3:][::-1]\n",
    "top_questions_sbert = [(questions[i], similarities_sbert[i]) for i in top_indices_sbert]\n",
    "\n",
    "# Find top 3 questions based on similarity scores from BERT\n",
    "top_indices_bert = np.argsort(similarities_bert)[-3:][::-1]\n",
    "top_questions_bert = [(questions[i], similarities_bert[i]) for i in top_indices_bert]\n",
    "\n",
    "# Display the top questions based on SBERT\n",
    "print(\"Top 3 Questions (SBERT-based):\")\n",
    "for question, similarity in top_questions_sbert:\n",
    "    print(f\"Question: {question} | Similarity: {similarity:.4f}\")\n",
    "\n",
    "# Display the top questions based on BERT\n",
    "print(\"\\nTop 3 Questions (BERT-based):\")\n",
    "for question, similarity in top_questions_bert:\n",
    "    print(f\"Question: {question} | Similarity: {similarity:.4f}\")\n"
   ]
  },
  {
   "cell_type": "markdown",
   "id": "fdf9f4cb",
   "metadata": {},
   "source": [
    "As we can see the only difference between SBERT and BERT is the second questions. **SBERT picks something that may resonate more with how people actually experience and value recognition in the workplace**. That is, rather than focusing on the existence of recognition structures, SBERT picks a question that is more likely to evoke feelings of appreciation and personal acknowledgment, **which seems to be supported by some [recent research](https://psycnet.apa.org/record/2008-05872-010)**. In any case, this is just a toy example, so you could probably find compelling arguments as well for having recognition systems in place."
   ]
  },
  {
   "cell_type": "markdown",
   "id": "573c2ea6",
   "metadata": {},
   "source": [
    "## Conclusion: Unlocking Survey Insights with LLMEP in People Analytics\n",
    "\n",
    "Using SBERT for survey item embedding provides a powerful tool for people analytics, allowing organizations to:\n",
    "\n",
    "1. **Refine Survey Questions:** Ensure they measure the intended constructs without requiring extensive piloting.\n",
    "2. **Analyze Open-Ended Feedback:** Transform question text into actionable data.\n",
    "3. **Enhance Psychometric Accuracy:** Improve reliability and validity with less manual testing.\n",
    "\n",
    "In the next blogpost I will show you how you can streamline this process even further by looking at multiple constucts, questions, and assessing the reliability and validity of your surveys data-free!"
   ]
  },
  {
   "cell_type": "markdown",
   "id": "44689acc",
   "metadata": {},
   "source": [
    "# References, appendix and additional info"
   ]
  },
  {
   "cell_type": "markdown",
   "id": "54c80f33",
   "metadata": {},
   "source": [
    "- Guenole, N., Samo, A., Campion, J. K., Meade, A., Sun, T., & Oswald, F. (2024). Pseudo-Discrimination Parameters from Language Embeddings\n",
    "- Guenole, N., D'Urso, E. D., Samo, A., & Sun, T. (2024). Pseudo Factor Analysis of Language Embedding Similarity Matrices: New Ways to Model Latent Constructs.\n",
    "- Hommel, B. E., & Arslan, R. C. (2024). Language models accurately infer correlations between psychological items and scales from text alone.\n",
    "- Wulff, D. U., & Mata, R. (2023). Automated jingle–jangle detection: Using embeddings to tackle taxonomic incommensurability."
   ]
  }
 ],
 "metadata": {
  "kernelspec": {
   "display_name": "Python 3 (ipykernel)",
   "language": "python",
   "name": "python3"
  },
  "language_info": {
   "codemirror_mode": {
    "name": "ipython",
    "version": 3
   },
   "file_extension": ".py",
   "mimetype": "text/x-python",
   "name": "python",
   "nbconvert_exporter": "python",
   "pygments_lexer": "ipython3",
   "version": "3.11.4"
  }
 },
 "nbformat": 4,
 "nbformat_minor": 5
}
